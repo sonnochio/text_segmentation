{
 "cells": [
  {
   "cell_type": "code",
   "execution_count": 1,
   "id": "de4ce49c",
   "metadata": {},
   "outputs": [],
   "source": [
    "import pandas as pd\n",
    "import numpy as np\n",
    "import matplotlib.pyplot as plt\n",
    "import seaborn as sns\n",
    "import os\n",
    "import pdfplumber"
   ]
  },
  {
   "cell_type": "code",
   "execution_count": 2,
   "id": "c687995d",
   "metadata": {},
   "outputs": [
    {
     "name": "stdout",
     "output_type": "stream",
     "text": [
      "Collecting pdfplumber\n",
      "  Downloading pdfplumber-0.9.0-py3-none-any.whl (46 kB)\n",
      "\u001b[2K     \u001b[90m━━━━━━━━━━━━━━━━━━━━━━━━━━━━━━━━━━━━━━━\u001b[0m \u001b[32m46.1/46.1 kB\u001b[0m \u001b[31m830.5 kB/s\u001b[0m eta \u001b[36m0:00:00\u001b[0m \u001b[36m0:00:01\u001b[0m\n",
      "\u001b[?25hCollecting pdfminer.six==20221105 (from pdfplumber)\n",
      "  Downloading pdfminer.six-20221105-py3-none-any.whl (5.6 MB)\n",
      "\u001b[2K     \u001b[90m━━━━━━━━━━━━━━━━━━━━━━━━━━━━━━━━━━━━━━━━\u001b[0m \u001b[32m5.6/5.6 MB\u001b[0m \u001b[31m2.3 MB/s\u001b[0m eta \u001b[36m0:00:00\u001b[0m00:01\u001b[0m00:01\u001b[0m\n",
      "\u001b[?25hRequirement already satisfied: Pillow>=9.1 in /Users/sonnykong/.pyenv/versions/3.10.6/envs/lewagon/lib/python3.10/site-packages (from pdfplumber) (9.2.0)\n",
      "Collecting Wand>=0.6.10 (from pdfplumber)\n",
      "  Downloading Wand-0.6.11-py2.py3-none-any.whl (143 kB)\n",
      "\u001b[2K     \u001b[90m━━━━━━━━━━━━━━━━━━━━━━━━━━━━━━━━━━━━━━━\u001b[0m \u001b[32m143.6/143.6 kB\u001b[0m \u001b[31m1.7 MB/s\u001b[0m eta \u001b[36m0:00:00\u001b[0m00:01\u001b[0m00:01\u001b[0m\n",
      "\u001b[?25hRequirement already satisfied: charset-normalizer>=2.0.0 in /Users/sonnykong/.pyenv/versions/3.10.6/envs/lewagon/lib/python3.10/site-packages (from pdfminer.six==20221105->pdfplumber) (2.1.1)\n",
      "Requirement already satisfied: cryptography>=36.0.0 in /Users/sonnykong/.pyenv/versions/3.10.6/envs/lewagon/lib/python3.10/site-packages (from pdfminer.six==20221105->pdfplumber) (38.0.1)\n",
      "Requirement already satisfied: cffi>=1.12 in /Users/sonnykong/.pyenv/versions/3.10.6/envs/lewagon/lib/python3.10/site-packages (from cryptography>=36.0.0->pdfminer.six==20221105->pdfplumber) (1.15.1)\n",
      "Requirement already satisfied: pycparser in /Users/sonnykong/.pyenv/versions/3.10.6/envs/lewagon/lib/python3.10/site-packages (from cffi>=1.12->cryptography>=36.0.0->pdfminer.six==20221105->pdfplumber) (2.21)\n",
      "Installing collected packages: Wand, pdfminer.six, pdfplumber\n",
      "Successfully installed Wand-0.6.11 pdfminer.six-20221105 pdfplumber-0.9.0\n"
     ]
    }
   ],
   "source": [
    "! pip install pdfplumber"
   ]
  },
  {
   "cell_type": "code",
   "execution_count": 2,
   "id": "f6248b95",
   "metadata": {},
   "outputs": [],
   "source": [
    "#pdf放在同级files文件夹里\n",
    "\n",
    "files=[('text_files/'+i) for i in os.listdir('text_files')if i[0] != '.']"
   ]
  },
  {
   "cell_type": "code",
   "execution_count": 838,
   "id": "13eb273f",
   "metadata": {},
   "outputs": [
    {
     "data": {
      "text/plain": [
       "'text_files/GL-XX-Mobilgear-600-XP-Series.pdf'"
      ]
     },
     "execution_count": 838,
     "metadata": {},
     "output_type": "execute_result"
    }
   ],
   "source": [
    "files[0]"
   ]
  },
  {
   "cell_type": "markdown",
   "id": "63e55ea6",
   "metadata": {},
   "source": [
    "# 处理单个文件"
   ]
  },
  {
   "cell_type": "markdown",
   "id": "4ba57355",
   "metadata": {},
   "source": [
    "## Table Extraction"
   ]
  },
  {
   "cell_type": "code",
   "execution_count": 858,
   "id": "59998afd",
   "metadata": {},
   "outputs": [],
   "source": [
    "pdf = pdfplumber.open(files[0])"
   ]
  },
  {
   "cell_type": "code",
   "execution_count": 859,
   "id": "7594c802",
   "metadata": {},
   "outputs": [],
   "source": [
    "def extract_tables(pdf, page_number=0):\n",
    "    #返回一页内所有表格\n",
    "    page = pdf.pages[page_number]\n",
    "    tbls=page.dedupe_chars(tolerance=1).extract_tables(table_settings={})\n",
    "    return tbls"
   ]
  },
  {
   "cell_type": "code",
   "execution_count": 860,
   "id": "fb2372c5",
   "metadata": {},
   "outputs": [],
   "source": [
    "def to_df(tbl):\n",
    "    #返回一个表格为data frame\n",
    "    df=pd.DataFrame(tbl)\n",
    "    df=df.dropna()\n",
    "    df.columns=df.iloc[0]\n",
    "    df=df[1:].reset_index(drop=True)\n",
    "    #clean one line dfs\n",
    "    if not df.empty:\n",
    "        df=df.applymap(lambda x: x.replace('\\n',''))\n",
    "        return df\n"
   ]
  },
  {
   "cell_type": "code",
   "execution_count": 861,
   "id": "db6d6ad4",
   "metadata": {},
   "outputs": [],
   "source": [
    "tbls_clean=[to_df(x) for x in tbls if to_df(x) is not None]\n",
    "test2=tbls_clean[0]"
   ]
  },
  {
   "cell_type": "code",
   "execution_count": 862,
   "id": "299fcb61",
   "metadata": {},
   "outputs": [],
   "source": [
    "def return_all_tables_of_a_page(pdf,page_number=0):\n",
    "    tbls=extract_tables(pdf,page_number)\n",
    "    tbls_clean=[to_df(x) for x in tbls if to_df(x) is not None]\n",
    "    return tbls_clean\n"
   ]
  },
  {
   "cell_type": "code",
   "execution_count": 863,
   "id": "273abc1c",
   "metadata": {},
   "outputs": [],
   "source": [
    "def return_all_tables_pages(pdf):\n",
    "    #返回文件内所有表格为一个list的data frames\n",
    "    total_tables=[]\n",
    "    for i in range(len(pdf.pages)):\n",
    "        tbls_clean=return_all_tables_of_a_page(pdf,i)\n",
    "        total_tables.append(tbls_clean)\n",
    "    return total_tables"
   ]
  },
  {
   "cell_type": "code",
   "execution_count": 864,
   "id": "8f797956",
   "metadata": {},
   "outputs": [
    {
     "data": {
      "text/html": [
       "<div>\n",
       "<style scoped>\n",
       "    .dataframe tbody tr th:only-of-type {\n",
       "        vertical-align: middle;\n",
       "    }\n",
       "\n",
       "    .dataframe tbody tr th {\n",
       "        vertical-align: top;\n",
       "    }\n",
       "\n",
       "    .dataframe thead th {\n",
       "        text-align: right;\n",
       "    }\n",
       "</style>\n",
       "<table border=\"1\" class=\"dataframe\">\n",
       "  <thead>\n",
       "    <tr style=\"text-align: right;\">\n",
       "      <th></th>\n",
       "      <th>特性</th>\n",
       "      <th>优势及潜在效益</th>\n",
       "    </tr>\n",
       "  </thead>\n",
       "  <tbody>\n",
       "    <tr>\n",
       "      <th>0</th>\n",
       "      <td>加强对齿轮的磨损保护，防止产生微点蚀</td>\n",
       "      <td>减轻齿轮和轴承磨损，减少意外停机时间</td>\n",
       "    </tr>\n",
       "    <tr>\n",
       "      <th>1</th>\n",
       "      <td>减少由于磨损产生的颗粒，减少碎屑产生的凹痕</td>\n",
       "      <td>延长 22% 的轴承寿命，减少轴承替换成本，提高效率</td>\n",
       "    </tr>\n",
       "    <tr>\n",
       "      <th>2</th>\n",
       "      <td>进一步提供轴承磨损保护</td>\n",
       "      <td>延长轴承寿命，带来更高的效率</td>\n",
       "    </tr>\n",
       "    <tr>\n",
       "      <th>3</th>\n",
       "      <td>能与各种密封材料实现出色的兼容</td>\n",
       "      <td>减轻泄露、减少机油消耗量，避免污染物进入，从而减少维护次数，延长齿轮箱可靠性，提高效率</td>\n",
       "    </tr>\n",
       "    <tr>\n",
       "      <th>4</th>\n",
       "      <td>出色的抗氧化和抗热降解性能</td>\n",
       "      <td>以更低的润滑油和润滑成本，延长润滑油寿命，并减少计划停机时间。</td>\n",
       "    </tr>\n",
       "    <tr>\n",
       "      <th>5</th>\n",
       "      <td>避免油泥和沉淀的形成</td>\n",
       "      <td>系统更洁净，维护次数更少</td>\n",
       "    </tr>\n",
       "    <tr>\n",
       "      <th>6</th>\n",
       "      <td>广泛的适用性</td>\n",
       "      <td>由于其具有广泛的适用性，因此所需使用的润滑油种类会减少，从而降低采购和存储成本，避免用错润滑...</td>\n",
       "    </tr>\n",
       "    <tr>\n",
       "      <th>7</th>\n",
       "      <td>出色的防锈蚀性能，同时还能避免钢、铜和软质金属合金的腐蚀</td>\n",
       "      <td>能够为设备部件提供出色的保护，减轻维护和维修成本</td>\n",
       "    </tr>\n",
       "    <tr>\n",
       "      <th>8</th>\n",
       "      <td>抗泡和抗乳化性能</td>\n",
       "      <td>在水污染设备或者在设备容易产生油泡的情况下，提供有效的润滑特性，使发动机无忧运行</td>\n",
       "    </tr>\n",
       "  </tbody>\n",
       "</table>\n",
       "</div>"
      ],
      "text/plain": [
       "0                            特性   \n",
       "0            加强对齿轮的磨损保护，防止产生微点蚀  \\\n",
       "1         减少由于磨损产生的颗粒，减少碎屑产生的凹痕   \n",
       "2                   进一步提供轴承磨损保护   \n",
       "3               能与各种密封材料实现出色的兼容   \n",
       "4                 出色的抗氧化和抗热降解性能   \n",
       "5                    避免油泥和沉淀的形成   \n",
       "6                        广泛的适用性   \n",
       "7  出色的防锈蚀性能，同时还能避免钢、铜和软质金属合金的腐蚀   \n",
       "8                      抗泡和抗乳化性能   \n",
       "\n",
       "0                                            优势及潜在效益  \n",
       "0                                 减轻齿轮和轴承磨损，减少意外停机时间  \n",
       "1                         延长 22% 的轴承寿命，减少轴承替换成本，提高效率  \n",
       "2                                     延长轴承寿命，带来更高的效率  \n",
       "3        减轻泄露、减少机油消耗量，避免污染物进入，从而减少维护次数，延长齿轮箱可靠性，提高效率  \n",
       "4                    以更低的润滑油和润滑成本，延长润滑油寿命，并减少计划停机时间。  \n",
       "5                                       系统更洁净，维护次数更少  \n",
       "6  由于其具有广泛的适用性，因此所需使用的润滑油种类会减少，从而降低采购和存储成本，避免用错润滑...  \n",
       "7                           能够为设备部件提供出色的保护，减轻维护和维修成本  \n",
       "8           在水污染设备或者在设备容易产生油泡的情况下，提供有效的润滑特性，使发动机无忧运行  "
      ]
     },
     "execution_count": 864,
     "metadata": {},
     "output_type": "execute_result"
    }
   ],
   "source": [
    "return_all_tables_pages(pdf)[0][0]"
   ]
  },
  {
   "cell_type": "markdown",
   "id": "120fdda1",
   "metadata": {},
   "source": [
    "## Extract Text to List"
   ]
  },
  {
   "cell_type": "markdown",
   "id": "9c8baccc",
   "metadata": {},
   "source": [
    "### 单页内容清理\n"
   ]
  },
  {
   "cell_type": "code",
   "execution_count": 902,
   "id": "069bc186",
   "metadata": {
    "scrolled": true
   },
   "outputs": [],
   "source": [
    "#load the page without duplicated characters\n",
    "# pdf_text = pdf.pages[0].dedupe_chars(tolerance=1)\\\n",
    "#     .extract_text(x_tolerance=3,\n",
    "#                   y_tolerance=3, layout=True)"
   ]
  },
  {
   "cell_type": "code",
   "execution_count": 951,
   "id": "778a56eb",
   "metadata": {
    "scrolled": true
   },
   "outputs": [
    {
     "ename": "NameError",
     "evalue": "name 'tjl' is not defined",
     "output_type": "error",
     "traceback": [
      "\u001b[0;31m---------------------------------------------------------------------------\u001b[0m",
      "\u001b[0;31mNameError\u001b[0m                                 Traceback (most recent call last)",
      "Cell \u001b[0;32mIn [951], line 1\u001b[0m\n\u001b[0;32m----> 1\u001b[0m \u001b[38;5;28mbool\u001b[39m(tjl)\n",
      "\u001b[0;31mNameError\u001b[0m: name 'tjl' is not defined"
     ]
    }
   ],
   "source": [
    "bool(tjl)"
   ]
  },
  {
   "cell_type": "code",
   "execution_count": 973,
   "id": "564a9c5b",
   "metadata": {},
   "outputs": [],
   "source": [
    "#experimental: clean all tables off a page and return text as lines\n",
    "def clean_page_tables(pdf, page_number):\n",
    "    tbls_clean=return_all_tables_of_a_page(pdf,page_number)\n",
    "    \n",
    "    #load pdf as text block\n",
    "    pdf_text=pdf.pages[page_number].dedupe_chars(tolerance=1)\\\n",
    "    .extract_text(x_tolerance=3,\n",
    "                  y_tolerance=3, layout=True)\n",
    "    \n",
    "    #split into lines\n",
    "    pdf_lines=pdf_text.split('\\n')\n",
    "\n",
    "    for i,x in enumerate(tbls_clean):\n",
    "        table_lines=x.to_string(index=False,header=True,line_width=1000000000000000).split('\\n')\n",
    "        \n",
    "        #capture all overlapped text from pdf_lines\n",
    "        counter=0\n",
    "        begin=0\n",
    "        end=0\n",
    "        for i,lineb in enumerate(pdf_lines):\n",
    "            for j,linea in enumerate(table_lines):\n",
    "                if lineb.strip().replace(' ','') == linea.strip().replace(' ',''):\n",
    "                    pdf_lines[i]='<delete>'\n",
    "                    table_lines[j]='<delete>'\n",
    "    \n",
    "                    #capture anything in between\n",
    "                    end=i\n",
    "                    if counter<1:\n",
    "                        begin=i\n",
    "                    counter+=1\n",
    "\n",
    "        #delete all over lapping lines\n",
    "        if 'begin' in locals() :\n",
    "            del pdf_lines[begin:end+1]\n",
    "    \n",
    "    return pdf_lines\n",
    "        \n",
    "        "
   ]
  },
  {
   "cell_type": "code",
   "execution_count": 974,
   "id": "afddcaaa",
   "metadata": {},
   "outputs": [],
   "source": [
    "def return_page_paragraphs(pdf,page_number):\n",
    "    pdf_lines=clean_page_tables(pdf, page_number)\n",
    "    \n",
    "    #mark delete for the frist whitespace and separation for the rest\n",
    "    counter=0\n",
    "    text_clean=pdf_lines.copy()\n",
    "    for i,x in enumerate(pdf_lines):\n",
    "        if bool(x.strip()==''):\n",
    "            if counter>0:\n",
    "                text_clean[i]='delete'\n",
    "            else:\n",
    "                text_clean[i]='separate'\n",
    "            counter+=1\n",
    "        else:\n",
    "            counter=0\n",
    "    text_clean=[x.strip().replace(' ','') for x in text_clean if x!='delete']\n",
    "    \n",
    "    #commit the separations and generate paragraphs as lists\n",
    "    result=[]\n",
    "    temp=[]\n",
    "    for x in text_clean:\n",
    "        if x == 'separate':\n",
    "            if temp:\n",
    "                result.append(' '.join(temp))\n",
    "                temp=[]\n",
    "        else:\n",
    "            temp.append(x)\n",
    "    return result"
   ]
  },
  {
   "cell_type": "code",
   "execution_count": 979,
   "id": "82903562",
   "metadata": {},
   "outputs": [
    {
     "data": {
      "text/plain": [
       "['Mobilgear600XPSeries(美孚齿轮油600XP系列)Page2of4 美孚齿轮油600XP润滑油可用于广泛的工业和船舶应用中，尤其适用于正齿轮、斜齿轮、伞齿轮以及蜗齿轮上。具体应用包括：',\n",
       " '•用于工业设备的齿轮装置如传送机、搅拌机、干燥机、风扇、混合器、冲床、制浆机、泵（包括抽油泵）、筛选机、挤出机和其它重载荷应用 •船用齿轮包括主推进器、离心泵、甲板机械如绞车、起锚机、起重机、盘车装置、泵、升降机及舵承 •非齿轮应用包括联轴器、螺杆以及低速运转的高负荷滑动与滚动接触轴承。',\n",
       " '规格与认可',\n",
       " '特性与规范']"
      ]
     },
     "execution_count": 979,
     "metadata": {},
     "output_type": "execute_result"
    }
   ],
   "source": [
    "return_page_paragraphs(pdf,1)"
   ]
  },
  {
   "cell_type": "markdown",
   "id": "744c1026",
   "metadata": {},
   "source": [
    "### 多页处理"
   ]
  },
  {
   "cell_type": "code",
   "execution_count": 980,
   "id": "be474d18",
   "metadata": {},
   "outputs": [],
   "source": [
    "def return_file_paraghras(pdf):\n",
    "    total_text=[]\n",
    "    for i in range(len(pdf.pages)):\n",
    "        total_text.append(return_page_paragraphs(pdf,i))\n",
    "    return total_text"
   ]
  },
  {
   "cell_type": "code",
   "execution_count": 981,
   "id": "0b94b986",
   "metadata": {},
   "outputs": [
    {
     "data": {
      "text/plain": [
       "[['Mobilgear600XPSeries(美孚齿轮油600XP系列)Page1of4',\n",
       "  'Mobilgear600XPSeries(美孚齿轮油600XP系列) MobilIndustrial,中国 齿轮油',\n",
       "  '产品简介',\n",
       "  '美孚齿轮油600XP系列是高效能齿轮油，具有出色的承受极压和负载的特性，适用于采用循环式或飞溅式润滑系统的各类密闭式齿轮传动。美孚齿轮 油600XP系列旨在帮助满足不断变化的齿轮箱技术的需求。齿轮箱正在向体积更小但能够提供相似功率输出的设计迈进。功率密度的提升对齿轮油产 生了新的要求。美孚齿轮油600XP系列齿轮油可为齿轮、轴承和密封件提供额外保护，专为满足其运行要求而配制。',\n",
       "  '美孚齿轮油600XP系列专为保护齿轮齿、避免早期磨损而配制。微小磨损，也叫做微点蚀，会对齿轮齿造成严重的损伤。美孚齿轮油600XP系列超出 了业内对轴承磨损保护的要求。实际上，美孚齿轮油600XP系列的磨损保护能力是行业标准FAGFE8测试的15倍。美孚齿轮油600XP系列采用均衡 配方，能提供出色的抗磨损和防腐保护，同时能兼容通用齿轮箱密封材料。美孚齿轮油600XP有助于保持齿轮箱密封的完整性，从而避免漏油并避免 污染物进入。美孚齿轮油600XP能够保护齿轮、轴承和密封件，提高设备的可靠性和效率。',\n",
       "  '美孚齿轮油600XP系列产品推荐用于以下应用：工业用封闭式正齿轮、斜齿轮和伞齿轮，其采用循环或飞溅润滑，整体油温可达100ºC的应用。尤其适 用于高负荷与冲击负荷工况下的齿轮组中。美孚齿轮油600XP系列产品同时适用于广泛的船用齿轮应用中。其还适用于非齿轮应用，包括高负载和低 速滑动和滚动接触轴承。',\n",
       "  '特性和效益',\n",
       "  '美孚齿轮油600XP系列产品是美孚品牌工业润滑油中的出色产品，凭借其出众的创新和高效能而享有盛誉。矿物油基产品系列是出色的工业齿轮油， 满足行业最新标准，并且拥有出色的泛用性，能够为一系列工业和船用设备提供有效润滑。',\n",
       "  '美孚齿轮油600XP系列产品具有以下特性和潜在效益：',\n",
       "  '应用范围'],\n",
       " ['Mobilgear600XPSeries(美孚齿轮油600XP系列)Page2of4 美孚齿轮油600XP润滑油可用于广泛的工业和船舶应用中，尤其适用于正齿轮、斜齿轮、伞齿轮以及蜗齿轮上。具体应用包括：',\n",
       "  '•用于工业设备的齿轮装置如传送机、搅拌机、干燥机、风扇、混合器、冲床、制浆机、泵（包括抽油泵）、筛选机、挤出机和其它重载荷应用 •船用齿轮包括主推进器、离心泵、甲板机械如绞车、起锚机、起重机、盘车装置、泵、升降机及舵承 •非齿轮应用包括联轴器、螺杆以及低速运转的高负荷滑动与滚动接触轴承。',\n",
       "  '规格与认可',\n",
       "  '特性与规范'],\n",
       " ['Mobilgear600XPSeries(美孚齿轮油600XP系列)Page3of4',\n",
       "  '健康与安全',\n",
       "  '有关本产品的健康与安全建议，请参阅化学品安全技术说明书(MSDS)，可于以下网站获取：http://www.msds.exxonmobil.com/psims/psims.aspx 除另行说明外，此处所使用的所有商标均为埃克森美孚公司或其某一关联公司的商标或注册商标。',\n",
       "  '12-2022 ExxonMobil(China)InvestmentCo.Ltd 17thFloor,MetroTower 30TianYaoQiaoRoad Shanghai2000030 China +862124076000 http://www.exxonmobil.com 典型属性是经由通常生产状况下得到的典型数值,不等同与产品规范.产品在通常生产状况下,以及不同的调配厂产生的典型数值可能会有变动,并不 影响产品性能.此处包含的信息可能未经通知而作出变更.并不是所有的产品都会在当地出售.更多的详情,请联络埃克森美孚公司当地机构,或查询 www.exxonmobil.com 埃克森美孚公司有许多分支和下属机构.他们大多在公司名称里包含\"埃索\",\"美孚\",或\"埃克森美孚\". 本文件并不取代当地公司的独立性. 当地相关的埃克森美孚公司分支机构对当地的行为负有责任.'],\n",
       " ['Mobilgear600XPSeries(美孚齿轮油600XP系列)Page4of4 ©Copyright2003-2023ExxonMobilCorporation.All RightsReserved']]"
      ]
     },
     "execution_count": 981,
     "metadata": {},
     "output_type": "execute_result"
    }
   ],
   "source": [
    "return_file_paraghras(pdf)"
   ]
  }
 ],
 "metadata": {
  "kernelspec": {
   "display_name": "Python 3 (ipykernel)",
   "language": "python",
   "name": "python3"
  },
  "language_info": {
   "codemirror_mode": {
    "name": "ipython",
    "version": 3
   },
   "file_extension": ".py",
   "mimetype": "text/x-python",
   "name": "python",
   "nbconvert_exporter": "python",
   "pygments_lexer": "ipython3",
   "version": "3.10.6"
  }
 },
 "nbformat": 4,
 "nbformat_minor": 5
}
